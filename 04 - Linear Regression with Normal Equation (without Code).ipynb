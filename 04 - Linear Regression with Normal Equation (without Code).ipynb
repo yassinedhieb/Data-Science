{
 "cells": [
  {
   "cell_type": "markdown",
   "metadata": {},
   "source": [
    "# 04 - Linear Regression with Normal Equation\n",
    "\n",
    "In this notebook, we demonstrate on an artificial data set:\n",
    "\n",
    "- How to use the normal equation to solve a linear regression model by hand with 2 weight parameters\n",
    "- Use the LinearRegression class for the same task\n"
   ]
  },
  {
   "cell_type": "markdown",
   "metadata": {},
   "source": [
    "Generate some training data (with 100 training instances) from a simple function $y = 4 + 3x$ (with $x = [0, 2.0]$) with some added random noise. Following the convention of machine learning, we call the vector of the x-values (the input values) as X and the y-values (the target values) as y. From this data, we later learn the function, which should be close to the one with generated the data from. The idea is therefore to learn the function above from the given training data."
   ]
  },
  {
   "cell_type": "code",
   "execution_count": 1,
   "metadata": {},
   "outputs": [],
   "source": [
    "import numpy as np\n",
    "np.random.seed(1234)\n",
    "X = 2 * np.random.rand(100, 1)\n",
    "y = 4 + 3 * X + np.random.randn(100, 1)\n"
   ]
  },
  {
   "cell_type": "markdown",
   "metadata": {},
   "source": [
    "Print the first 10 values of X and y."
   ]
  },
  {
   "cell_type": "code",
   "execution_count": 2,
   "metadata": {},
   "outputs": [
    {
     "name": "stdout",
     "output_type": "stream",
     "text": [
      "X:\n",
      " [[0.3830389 ]\n",
      " [1.24421754]\n",
      " [0.87545548]\n",
      " [1.57071717]\n",
      " [1.55995162]\n",
      " [0.54518521]\n",
      " [0.55292851]\n",
      " [1.60374436]\n",
      " [1.91627871]\n",
      " [1.75186527]] \n",
      "\n",
      "y:\n",
      " [[ 5.91648544]\n",
      " [ 8.71757247]\n",
      " [ 6.89720228]\n",
      " [10.1041377 ]\n",
      " [ 8.75969716]\n",
      " [ 5.23559105]\n",
      " [ 4.63093497]\n",
      " [ 8.22651485]\n",
      " [10.56543005]\n",
      " [ 9.17364876]]\n"
     ]
    }
   ],
   "source": [
    "print('X:\\n', X[:10], '\\n')\n",
    "print('y:\\n', y[:10])"
   ]
  },
  {
   "cell_type": "markdown",
   "metadata": {},
   "source": [
    "Plot the training data with matplotlib. The **\"b.\"** in the plot method defines the style (color and size) the points are plotted. (The characters that can be used to define this style are specified by matplotlib. See the documentation of matplotlib for further details.)"
   ]
  },
  {
   "cell_type": "code",
   "execution_count": 3,
   "metadata": {},
   "outputs": [
    {
     "data": {
      "text/plain": [
       "[<matplotlib.lines.Line2D at 0x7f6d6c475290>]"
      ]
     },
     "execution_count": 3,
     "metadata": {},
     "output_type": "execute_result"
    },
    {
     "data": {
      "image/png": "[encoded data removed]",
      "text/plain": [
       "<Figure size 504x360 with 1 Axes>"
      ]
     },
     "metadata": {
      "needs_background": "light"
     },
     "output_type": "display_data"
    }
   ],
   "source": [
    "import matplotlib.pyplot as plt\n",
    "fig = plt.figure(figsize=(7, 5))\n",
    "ax = fig.add_axes((0, 0, 1, 1))\n",
    "ax.axis([0, 2, 0, 15]) # set axis limits\n",
    "ax.plot(X, y, \"b.\")"
   ]
  },
  {
   "cell_type": "markdown",
   "metadata": {},
   "source": [
    "## Solution with normal equation\n",
    "\n",
    "Next, we calculate the model parameters theta using the normal equation. But before we can do that in vector form, we need to add a vector of ones to X, so that the ones come before the X values. As you might remember, the ones are multiplied with the bias values. For this purpose, we use the NumPy function **c_**, which does a concatenation, here the vector of ones with our X vector. (Check out how the function does not need parenthesis, but uses the brackets. Python uses a syntactic trick to use operator overloading instead of defining a real function.)"
   ]
  },
  {
   "cell_type": "code",
   "execution_count": 4,
   "metadata": {},
   "outputs": [
    {
     "name": "stdout",
     "output_type": "stream",
     "text": [
      "(100, 2)\n",
      "[[1.         0.3830389 ]\n",
      " [1.         1.24421754]\n",
      " [1.         0.87545548]\n",
      " [1.         1.57071717]\n",
      " [1.         1.55995162]\n",
      " [1.         0.54518521]\n",
      " [1.         0.55292851]\n",
      " [1.         1.60374436]\n",
      " [1.         1.91627871]\n",
      " [1.         1.75186527]]\n"
     ]
    }
   ],
   "source": [
    "X_b = np.c_[np.ones((100, 1)), X]\n",
    "print(X_b.shape)\n",
    "print(X_b[:10,:])"
   ]
  },
  {
   "cell_type": "markdown",
   "metadata": {},
   "source": [
    "We use the **@** operator of NumPy that performs a matrix multiplication on NumPy 2D arrays as in the given formula and print the best values for theta."
   ]
  },
  {
   "cell_type": "code",
   "execution_count": 5,
   "metadata": {},
   "outputs": [
    {
     "data": {
      "text/plain": [
       "array([[4.07630632],\n",
       "       [2.94132381]])"
      ]
     },
     "execution_count": 5,
     "metadata": {},
     "output_type": "execute_result"
    }
   ],
   "source": [
    "theta_best = np.linalg.inv(X_b.T @ X_b) @ X_b.T @ y\n",
    "theta_best"
   ]
  },
  {
   "cell_type": "markdown",
   "metadata": {},
   "source": [
    "We can now use the theta vector (the learned parameters of out machine learning model) to predict y values from given x values (not forgetting to include a 1 before the actual values that is multiplied with the bias) using the linear weighted combination of theta and x. This linear combination can be implemented with the **dot()** function of NumPy. (No transpose is needed as we provide the x vector as a 1D array.)"
   ]
  },
  {
   "cell_type": "code",
   "execution_count": 6,
   "metadata": {},
   "outputs": [
    {
     "name": "stdout",
     "output_type": "stream",
     "text": [
      "(2,)\n",
      "[8.12062656]\n"
     ]
    }
   ],
   "source": [
    "X_test = np.array([1.0, 1.375])\n",
    "print(X_test.shape)\n",
    "y_test = X_test.dot(theta_best)\n",
    "print (y_test)"
   ]
  },
  {
   "cell_type": "markdown",
   "metadata": {},
   "source": [
    "To plot the model as a straight line, we need the predicted values for x=0.0 and x=2.0 (which is the range of x-values in the training data set). Instead of an X array with two values, we now need to construct a vector with 2 rows and 2 values per row. Since we need to x-values later for plotting, without the bias, we first construct these values, and then concatenate them with the vector of ones (as above). Compare the shapes of the above array of input values and the array of the following cell."
   ]
  },
  {
   "cell_type": "code",
   "execution_count": 7,
   "metadata": {},
   "outputs": [
    {
     "name": "stdout",
     "output_type": "stream",
     "text": [
      "(2, 2)\n",
      "\n",
      "[[1. 0.]\n",
      " [1. 2.]]\n",
      "\n",
      "[[4.07630632]\n",
      " [9.95895394]]\n"
     ]
    }
   ],
   "source": [
    "X_new = np.array([[0],[2]])\n",
    "X_new_b = np.c_[np.ones((2,1)), X_new]\n",
    "print(X_new_b.shape)\n",
    "print()\n",
    "print(X_new_b)\n",
    "print()\n",
    "y_predict = X_new_b.dot(theta_best)\n",
    "print(y_predict)\n"
   ]
  },
  {
   "cell_type": "markdown",
   "metadata": {},
   "source": [
    "Now, we are able plot the model as a line on top of the training data as a red line (using the **\"r-\"** style)."
   ]
  },
  {
   "cell_type": "code",
   "execution_count": 8,
   "metadata": {},
   "outputs": [
    {
     "data": {
      "text/plain": [
       "[<matplotlib.lines.Line2D at 0x7f6d6c3b13d0>]"
      ]
     },
     "execution_count": 8,
     "metadata": {},
     "output_type": "execute_result"
    },
    {
     "data": {
      "image/png": "[encoded data removed]",
      "text/plain": [
       "<Figure size 504x360 with 1 Axes>"
      ]
     },
     "metadata": {
      "needs_background": "light"
     },
     "output_type": "display_data"
    }
   ],
   "source": [
    "fig = plt.figure(figsize=(7, 5))\n",
    "ax = fig.add_axes((0, 0, 1, 1))\n",
    "ax.axis([0, 2, 0, 15]) # set axis limits\n",
    "ax.plot(X_new, y_predict, \"r-\")\n",
    "ax.plot(X, y, \"b.\")\n"
   ]
  },
  {
   "cell_type": "markdown",
   "metadata": {},
   "source": [
    "## Solution with scikit-learn\n",
    "\n",
    "The library scikit-learn provides a linear regression model to (among others) learn the model parameters of a linear regression and perform predictions. This is encapsulated in the **LinearRegression** class. After importing the respective module, an instance of the LinearRegression class is constructed. Then, the method **fit()** is called on the training data, which consists of the input values X and the target values y (given in vector/array form). Note that no ones need not to be included in the vector X. \n",
    "\n",
    "The best fit model parameters are then printed. Note that the coefficients can include more than 1 value depending on the input values (which is visible by the double brackets)."
   ]
  },
  {
   "cell_type": "code",
   "execution_count": 9,
   "metadata": {},
   "outputs": [
    {
     "name": "stdout",
     "output_type": "stream",
     "text": [
      "[4.07630632] [[2.94132381]]\n"
     ]
    }
   ],
   "source": [
    "from sklearn.linear_model import LinearRegression\n",
    "lin_reg = LinearRegression()\n",
    "lin_reg.fit(X, y)\n",
    "print(lin_reg.intercept_, lin_reg.coef_)"
   ]
  },
  {
   "cell_type": "markdown",
   "metadata": {},
   "source": [
    "Again, predict the values of y for x-values of 0.0 and 2.0 for plotting."
   ]
  },
  {
   "cell_type": "code",
   "execution_count": 10,
   "metadata": {},
   "outputs": [
    {
     "name": "stdout",
     "output_type": "stream",
     "text": [
      "[[4.07630632]\n",
      " [9.95895394]]\n"
     ]
    }
   ],
   "source": [
    "y_predict_sk = lin_reg.predict(X_new)\n",
    "print(y_predict_sk)"
   ]
  },
  {
   "cell_type": "markdown",
   "metadata": {},
   "source": [
    "Plot the model for the Scikit-Learn model."
   ]
  },
  {
   "cell_type": "code",
   "execution_count": 11,
   "metadata": {},
   "outputs": [
    {
     "data": {
      "text/plain": [
       "[<matplotlib.lines.Line2D at 0x7f6d694c6f50>]"
      ]
     },
     "execution_count": 11,
     "metadata": {},
     "output_type": "execute_result"
    },
    {
     "data": {
      "image/png": "[encoded data removed]",
      "text/plain": [
       "<Figure size 504x360 with 1 Axes>"
      ]
     },
     "metadata": {
      "needs_background": "light"
     },
     "output_type": "display_data"
    }
   ],
   "source": [
    "fig = plt.figure(figsize=(7, 5))\n",
    "ax = fig.add_axes((0, 0, 1, 1))\n",
    "ax.axis([0, 2, 0, 15])\n",
    "ax.plot(X_new, y_predict_sk, \"g-\")\n",
    "ax.plot(X, y, \"b.\")\n"
   ]
  },
  {
   "cell_type": "markdown",
   "metadata": {},
   "source": [
    "The model parameters (theta) of the two approaches should be exactly the same, as the **fit()** method of **LinearRegression** class also uses the normal equation. However, the scikit-learn library is simple to use (and one does not make a mistake in writing the normal equation) and it offers a few further methods to use that might be helpful."
   ]
  }
 ],
 "metadata": {
  "kernelspec": {
   "display_name": "Python 3",
   "language": "python",
   "name": "python3"
  },
  "language_info": {
   "codemirror_mode": {
    "name": "ipython",
    "version": 3
   },
   "file_extension": ".py",
   "mimetype": "text/x-python",
   "name": "python",
   "nbconvert_exporter": "python",
   "pygments_lexer": "ipython3",
   "version": "3.7.8"
  }
 },
 "nbformat": 4,
 "nbformat_minor": 4
}
