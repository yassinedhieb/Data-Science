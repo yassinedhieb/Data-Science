{
 "cells": [
  {
   "cell_type": "markdown",
   "metadata": {},
   "source": [
    "# 05 - Regularization & Polynomial Regression"
   ]
  },
  {
   "cell_type": "markdown",
   "metadata": {},
   "source": [
    "The objective of parameter fitting for linear regression is to minimize the loss/cost function. In order to do this, the optimization algorithm tries to fit the values of the coefficients of each feature, such that the loss function is minimized. Sometimes, this leads to overfitting, as the coefficients of each variable are optimized for the data that the variable is trained on. This means that your (linear) regression model will not generalize well to other data than your current training data.\n",
    "\n",
    "The process by which we penalize over-optimized coefficients in order to prevent this type of overfitting is called regularization. \n",
    "\n",
    "There are two broad types of regularization methods:\n",
    "* Ridge regression \n",
    "* Lasso regression\n",
    "\n",
    "In this exercise, we will apply both regularization methods on the dataset of housing prices as introduced in the previous exercise. The goal is to learn on how to apply regularization, even if this is on a linear model. As the regularization methods introduce further hyperparameters, we need to find the best values for these hyperparameters, which need to be set by the user and cannot be trained. For this purpose, we also introduce grid search, which is provided as a function by scikit-learn. Afterwards, we introduce the polynomial extension of the features for polynomial regression. \n",
    "\n",
    "Your task in the end is to apply regularization on the polynomial model.\n",
    "\n",
    "**Note:** the dataset of housing prices is not necessarily the best dataset to see the benefits for regularization. The objective of this exercise is more on the practical application than on improving a model."
   ]
  },
  {
   "cell_type": "markdown",
   "metadata": {},
   "source": [
    "## Import necessary modules\n",
    "\n",
    "Import numpy, pandas, and matplotlib with their standard aliases.\n"
   ]
  },
  {
   "cell_type": "code",
   "execution_count": 1,
   "metadata": {},
   "outputs": [],
   "source": [
    "import numpy as np\n",
    "import pandas as pd\n",
    "import matplotlib.pyplot as plt"
   ]
  },
  {
   "cell_type": "markdown",
   "metadata": {},
   "source": [
    "## Read data\n",
    "\n",
    "Prepare the filepath in the shared folder."
   ]
  },
  {
   "cell_type": "code",
   "execution_count": 2,
   "metadata": {},
   "outputs": [
    {
     "name": "stdout",
     "output_type": "stream",
     "text": [
      "/home/jovyan/coursematerial/GIS/GeoDataScience/HousingPrices.csv\n"
     ]
    }
   ],
   "source": [
    "from pathlib import Path\n",
    "import os\n",
    "\n",
    "data_dir = str(Path.home()) + r'/coursematerial/GIS/GeoDataScience'\n",
    "\n",
    "filepath = os.path.join(data_dir, r'HousingPrices.csv')\n",
    "\n",
    "print(filepath)"
   ]
  },
  {
   "cell_type": "markdown",
   "metadata": {},
   "source": [
    "Import the data provided in the shared folder.'"
   ]
  },
  {
   "cell_type": "code",
   "execution_count": 3,
   "metadata": {},
   "outputs": [],
   "source": [
    "data = pd.read_csv(filepath)"
   ]
  },
  {
   "cell_type": "markdown",
   "metadata": {},
   "source": [
    "Have a quick inspection of the data unsing known pandas methods."
   ]
  },
  {
   "cell_type": "code",
   "execution_count": 4,
   "metadata": {},
   "outputs": [
    {
     "data": {
      "text/html": [
       "<div>\n",
       "<style scoped>\n",
       "    .dataframe tbody tr th:only-of-type {\n",
       "        vertical-align: middle;\n",
       "    }\n",
       "\n",
       "    .dataframe tbody tr th {\n",
       "        vertical-align: top;\n",
       "    }\n",
       "\n",
       "    .dataframe thead th {\n",
       "        text-align: right;\n",
       "    }\n",
       "</style>\n",
       "<table border=\"1\" class=\"dataframe\">\n",
       "  <thead>\n",
       "    <tr style=\"text-align: right;\">\n",
       "      <th></th>\n",
       "      <th>RM</th>\n",
       "      <th>LSTAT</th>\n",
       "      <th>PTRATIO</th>\n",
       "      <th>MEDV</th>\n",
       "    </tr>\n",
       "  </thead>\n",
       "  <tbody>\n",
       "    <tr>\n",
       "      <th>0</th>\n",
       "      <td>6.575</td>\n",
       "      <td>4.98</td>\n",
       "      <td>15.3</td>\n",
       "      <td>504000.0</td>\n",
       "    </tr>\n",
       "    <tr>\n",
       "      <th>1</th>\n",
       "      <td>6.421</td>\n",
       "      <td>9.14</td>\n",
       "      <td>17.8</td>\n",
       "      <td>453600.0</td>\n",
       "    </tr>\n",
       "    <tr>\n",
       "      <th>2</th>\n",
       "      <td>7.185</td>\n",
       "      <td>4.03</td>\n",
       "      <td>17.8</td>\n",
       "      <td>728700.0</td>\n",
       "    </tr>\n",
       "    <tr>\n",
       "      <th>3</th>\n",
       "      <td>6.998</td>\n",
       "      <td>2.94</td>\n",
       "      <td>18.7</td>\n",
       "      <td>701400.0</td>\n",
       "    </tr>\n",
       "    <tr>\n",
       "      <th>4</th>\n",
       "      <td>7.147</td>\n",
       "      <td>5.33</td>\n",
       "      <td>18.7</td>\n",
       "      <td>760200.0</td>\n",
       "    </tr>\n",
       "  </tbody>\n",
       "</table>\n",
       "</div>"
      ],
      "text/plain": [
       "      RM  LSTAT  PTRATIO      MEDV\n",
       "0  6.575   4.98     15.3  504000.0\n",
       "1  6.421   9.14     17.8  453600.0\n",
       "2  7.185   4.03     17.8  728700.0\n",
       "3  6.998   2.94     18.7  701400.0\n",
       "4  7.147   5.33     18.7  760200.0"
      ]
     },
     "execution_count": 4,
     "metadata": {},
     "output_type": "execute_result"
    }
   ],
   "source": [
    "data.head()"
   ]
  },
  {
   "cell_type": "markdown",
   "metadata": {},
   "source": [
    "##   Explore the housing data"
   ]
  },
  {
   "cell_type": "markdown",
   "metadata": {},
   "source": [
    "Have a quick view on the data features."
   ]
  },
  {
   "cell_type": "code",
   "execution_count": 5,
   "metadata": {},
   "outputs": [
    {
     "data": {
      "image/png": "[encoded data removed]",
      "text/plain": [
       "<Figure size 720x720 with 20 Axes>"
      ]
     },
     "metadata": {},
     "output_type": "display_data"
    }
   ],
   "source": [
    "import seaborn as sns\n",
    "sns.set (style = 'whitegrid', context = 'notebook')\n",
    "_ = sns.pairplot(data, height = 2.5 )"
   ]
  },
  {
   "cell_type": "markdown",
   "metadata": {},
   "source": [
    "## Feature Observation\n",
    "\n",
    "As a reminder, we are using three features from the Boston housing dataset: 'RM', 'LSTAT', and 'PTRATIO'. For each data point (neighborhood):\n",
    "- 'RM' is the average number of rooms among homes in the neighborhood.\n",
    "- 'LSTAT' is the percentage of homeowners in the neighborhood considered \"lower class\" (working poor).\n",
    "- 'PTRATIO' is the ratio of students to teachers in primary and secondary schools in the neighborhood."
   ]
  },
  {
   "cell_type": "markdown",
   "metadata": {},
   "source": [
    "## Prepare the data as input for scikit-learn \n",
    "\n",
    "Since the main goal of this project is to construct a working model, which has the capability of predicting the value of houses, you will need to separate the dataset into **features** and the **target variable**. They must be NumPy arrays as input for the scikit-learn API.\n",
    "\n",
    "\n",
    "The **features, 'RM', 'LSTAT', and 'PTRATIO'**, give us quantitative information about each data point. The **target variable, 'MEDV'**, will be the variable we seek to predict. "
   ]
  },
  {
   "cell_type": "code",
   "execution_count": 6,
   "metadata": {},
   "outputs": [
    {
     "name": "stdout",
     "output_type": "stream",
     "text": [
      "FEATURES NAMES: Index(['RM', 'LSTAT', 'PTRATIO'], dtype='object')\n",
      "TARGET NAME: MEDV\n"
     ]
    }
   ],
   "source": [
    "columns_names = data.columns\n",
    "feature_names =columns_names[:-1]\n",
    "print('FEATURES NAMES: {}'.format(feature_names))\n",
    "target_name =columns_names[-1]\n",
    "print('TARGET NAME: {}'.format(target_name))"
   ]
  },
  {
   "cell_type": "markdown",
   "metadata": {},
   "source": [
    "### Train/test split for regression"
   ]
  },
  {
   "cell_type": "markdown",
   "metadata": {},
   "source": [
    "Train and test sets are vital to ensure that the supervised learning model is able to generalize well to new data. This is equally true for linear regression models, as for classification  models."
   ]
  },
  {
   "cell_type": "markdown",
   "metadata": {},
   "source": [
    "We will split the housing dataset into training and testing sets, and then fit and predict a linear regression over **all features**.\n",
    "\n",
    "**Please note that the split of data is random and your data might therefore lead to different results, which for this dataset could easily differ by 3% or more.**"
   ]
  },
  {
   "cell_type": "code",
   "execution_count": 7,
   "metadata": {},
   "outputs": [],
   "source": [
    "from sklearn.model_selection import train_test_split\n",
    "df_train, df_test = train_test_split(data, test_size=0.4)\n",
    "x_train = df_train[feature_names]\n",
    "x_test = df_test[feature_names]\n",
    "y_train = df_train[target_name]\n",
    "y_test = df_test[target_name]"
   ]
  },
  {
   "cell_type": "markdown",
   "metadata": {},
   "source": [
    "# Ridge regression\n",
    "The equation for ridge regression is $RidgeLossFunction = OriginalLossFunction + \\alpha\\frac{1}{2}\\sum_{i=1}^{n}\\theta_{i}^{2}$\n",
    "\n",
    "As can be recognized, the ridge loss function is equal to the ordinary least squares loss function plus alpha divided by 2 times the sum of the squared feature parameters. \n",
    "\n",
    "$\\alpha$ is a parameter that we can optimize in order to control the amount by which the ridge loss function penalizes the coefficients, in order to prevent overfitting. Obviously, if $\\alpha$ is equal to 0, the ridge loss function is equal to the ordinary least squares loss function, thereby making no difference to the initial overfit model. \n",
    "\n",
    "Therefore, optimizing this value of $\\alpha$ provides the optimal model that can generalize beyond the data that it has trained on. "
   ]
  },
  {
   "cell_type": "code",
   "execution_count": 8,
   "metadata": {},
   "outputs": [],
   "source": [
    "from sklearn.linear_model import Ridge"
   ]
  },
  {
   "cell_type": "markdown",
   "metadata": {},
   "source": [
    "Initialize a ridge regression model."
   ]
  },
  {
   "cell_type": "code",
   "execution_count": 9,
   "metadata": {},
   "outputs": [],
   "source": [
    "ridge_reg = Ridge(alpha = 0, normalize = True)"
   ]
  },
  {
   "cell_type": "markdown",
   "metadata": {},
   "source": [
    "Remember you can get the class documentation with **?**."
   ]
  },
  {
   "cell_type": "code",
   "execution_count": 10,
   "metadata": {},
   "outputs": [
    {
     "data": {
      "text/plain": [
       "\u001b[0;31mInit signature:\u001b[0m\n",
       "\u001b[0mRidge\u001b[0m\u001b[0;34m(\u001b[0m\u001b[0;34m\u001b[0m\n",
       "\u001b[0;34m\u001b[0m    \u001b[0malpha\u001b[0m\u001b[0;34m=\u001b[0m\u001b[0;36m1.0\u001b[0m\u001b[0;34m,\u001b[0m\u001b[0;34m\u001b[0m\n",
       "\u001b[0;34m\u001b[0m    \u001b[0mfit_intercept\u001b[0m\u001b[0;34m=\u001b[0m\u001b[0;32mTrue\u001b[0m\u001b[0;34m,\u001b[0m\u001b[0;34m\u001b[0m\n",
       "\u001b[0;34m\u001b[0m    \u001b[0mnormalize\u001b[0m\u001b[0;34m=\u001b[0m\u001b[0;32mFalse\u001b[0m\u001b[0;34m,\u001b[0m\u001b[0;34m\u001b[0m\n",
       "\u001b[0;34m\u001b[0m    \u001b[0mcopy_X\u001b[0m\u001b[0;34m=\u001b[0m\u001b[0;32mTrue\u001b[0m\u001b[0;34m,\u001b[0m\u001b[0;34m\u001b[0m\n",
       "\u001b[0;34m\u001b[0m    \u001b[0mmax_iter\u001b[0m\u001b[0;34m=\u001b[0m\u001b[0;32mNone\u001b[0m\u001b[0;34m,\u001b[0m\u001b[0;34m\u001b[0m\n",
       "\u001b[0;34m\u001b[0m    \u001b[0mtol\u001b[0m\u001b[0;34m=\u001b[0m\u001b[0;36m0.001\u001b[0m\u001b[0;34m,\u001b[0m\u001b[0;34m\u001b[0m\n",
       "\u001b[0;34m\u001b[0m    \u001b[0msolver\u001b[0m\u001b[0;34m=\u001b[0m\u001b[0;34m'auto'\u001b[0m\u001b[0;34m,\u001b[0m\u001b[0;34m\u001b[0m\n",
       "\u001b[0;34m\u001b[0m    \u001b[0mrandom_state\u001b[0m\u001b[0;34m=\u001b[0m\u001b[0;32mNone\u001b[0m\u001b[0;34m,\u001b[0m\u001b[0;34m\u001b[0m\n",
       "\u001b[0;34m\u001b[0m\u001b[0;34m)\u001b[0m\u001b[0;34m\u001b[0m\u001b[0;34m\u001b[0m\u001b[0m\n",
       "\u001b[0;31mDocstring:\u001b[0m     \n",
       "Linear least squares with l2 regularization.\n",
       "\n",
       "Minimizes the objective function::\n",
       "\n",
       "||y - Xw||^2_2 + alpha * ||w||^2_2\n",
       "\n",
       "This model solves a regression model where the loss function is\n",
       "the linear least squares function and regularization is given by\n",
       "the l2-norm. Also known as Ridge Regression or Tikhonov regularization.\n",
       "This estimator has built-in support for multi-variate regression\n",
       "(i.e., when y is a 2d-array of shape (n_samples, n_targets)).\n",
       "\n",
       "Read more in the :ref:`User Guide <ridge_regression>`.\n",
       "\n",
       "Parameters\n",
       "----------\n",
       "alpha : {float, ndarray of shape (n_targets,)}, default=1.0\n",
       "    Regularization strength; must be a positive float. Regularization\n",
       "    improves the conditioning of the problem and reduces the variance of\n",
       "    the estimates. Larger values specify stronger regularization.\n",
       "    Alpha corresponds to ``C^-1`` in other linear models such as\n",
       "    LogisticRegression or LinearSVC. If an array is passed, penalties are\n",
       "    assumed to be specific to the targets. Hence they must correspond in\n",
       "    number.\n",
       "\n",
       "fit_intercept : bool, default=True\n",
       "    Whether to calculate the intercept for this model. If set\n",
       "    to false, no intercept will be used in calculations\n",
       "    (i.e. data is expected to be centered).\n",
       "\n",
       "normalize : bool, default=False\n",
       "    This parameter is ignored when ``fit_intercept`` is set to False.\n",
       "    If True, the regressors X will be normalized before regression by\n",
       "    subtracting the mean and dividing by the l2-norm.\n",
       "    If you wish to standardize, please use\n",
       "    :class:`sklearn.preprocessing.StandardScaler` before calling ``fit``\n",
       "    on an estimator with ``normalize=False``.\n",
       "\n",
       "copy_X : bool, default=True\n",
       "    If True, X will be copied; else, it may be overwritten.\n",
       "\n",
       "max_iter : int, default=None\n",
       "    Maximum number of iterations for conjugate gradient solver.\n",
       "    For 'sparse_cg' and 'lsqr' solvers, the default value is determined\n",
       "    by scipy.sparse.linalg. For 'sag' solver, the default value is 1000.\n",
       "\n",
       "tol : float, default=1e-3\n",
       "    Precision of the solution.\n",
       "\n",
       "solver : {'auto', 'svd', 'cholesky', 'lsqr', 'sparse_cg', 'sag', 'saga'},         default='auto'\n",
       "    Solver to use in the computational routines:\n",
       "\n",
       "    - 'auto' chooses the solver automatically based on the type of data.\n",
       "\n",
       "    - 'svd' uses a Singular Value Decomposition of X to compute the Ridge\n",
       "      coefficients. More stable for singular matrices than\n",
       "      'cholesky'.\n",
       "\n",
       "    - 'cholesky' uses the standard scipy.linalg.solve function to\n",
       "      obtain a closed-form solution.\n",
       "\n",
       "    - 'sparse_cg' uses the conjugate gradient solver as found in\n",
       "      scipy.sparse.linalg.cg. As an iterative algorithm, this solver is\n",
       "      more appropriate than 'cholesky' for large-scale data\n",
       "      (possibility to set `tol` and `max_iter`).\n",
       "\n",
       "    - 'lsqr' uses the dedicated regularized least-squares routine\n",
       "      scipy.sparse.linalg.lsqr. It is the fastest and uses an iterative\n",
       "      procedure.\n",
       "\n",
       "    - 'sag' uses a Stochastic Average Gradient descent, and 'saga' uses\n",
       "      its improved, unbiased version named SAGA. Both methods also use an\n",
       "      iterative procedure, and are often faster than other solvers when\n",
       "      both n_samples and n_features are large. Note that 'sag' and\n",
       "      'saga' fast convergence is only guaranteed on features with\n",
       "      approximately the same scale. You can preprocess the data with a\n",
       "      scaler from sklearn.preprocessing.\n",
       "\n",
       "    All last five solvers support both dense and sparse data. However, only\n",
       "    'sparse_cg' supports sparse input when `fit_intercept` is True.\n",
       "\n",
       "    .. versionadded:: 0.17\n",
       "       Stochastic Average Gradient descent solver.\n",
       "    .. versionadded:: 0.19\n",
       "       SAGA solver.\n",
       "\n",
       "random_state : int, RandomState instance, default=None\n",
       "    The seed of the pseudo random number generator to use when shuffling\n",
       "    the data.  If int, random_state is the seed used by the random number\n",
       "    generator; If RandomState instance, random_state is the random number\n",
       "    generator; If None, the random number generator is the RandomState\n",
       "    instance used by `np.random`. Used when ``solver`` == 'sag'.\n",
       "\n",
       "    .. versionadded:: 0.17\n",
       "       *random_state* to support Stochastic Average Gradient.\n",
       "\n",
       "Attributes\n",
       "----------\n",
       "coef_ : ndarray of shape (n_features,) or (n_targets, n_features)\n",
       "    Weight vector(s).\n",
       "\n",
       "intercept_ : float or ndarray of shape (n_targets,)\n",
       "    Independent term in decision function. Set to 0.0 if\n",
       "    ``fit_intercept = False``.\n",
       "\n",
       "n_iter_ : None or ndarray of shape (n_targets,)\n",
       "    Actual number of iterations for each target. Available only for\n",
       "    sag and lsqr solvers. Other solvers will return None.\n",
       "\n",
       "    .. versionadded:: 0.17\n",
       "\n",
       "See also\n",
       "--------\n",
       "RidgeClassifier : Ridge classifier\n",
       "RidgeCV : Ridge regression with built-in cross validation\n",
       ":class:`sklearn.kernel_ridge.KernelRidge` : Kernel ridge regression\n",
       "    combines ridge regression with the kernel trick\n",
       "\n",
       "Examples\n",
       "--------\n",
       ">>> from sklearn.linear_model import Ridge\n",
       ">>> import numpy as np\n",
       ">>> n_samples, n_features = 10, 5\n",
       ">>> rng = np.random.RandomState(0)\n",
       ">>> y = rng.randn(n_samples)\n",
       ">>> X = rng.randn(n_samples, n_features)\n",
       ">>> clf = Ridge(alpha=1.0)\n",
       ">>> clf.fit(X, y)\n",
       "Ridge()\n",
       "\u001b[0;31mFile:\u001b[0m           /opt/conda/lib/python3.7/site-packages/sklearn/linear_model/_ridge.py\n",
       "\u001b[0;31mType:\u001b[0m           ABCMeta\n",
       "\u001b[0;31mSubclasses:\u001b[0m     \n"
      ]
     },
     "metadata": {},
     "output_type": "display_data"
    }
   ],
   "source": [
    "Ridge?"
   ]
  },
  {
   "cell_type": "markdown",
   "metadata": {},
   "source": [
    "Fit the model to the training data."
   ]
  },
  {
   "cell_type": "code",
   "execution_count": 11,
   "metadata": {},
   "outputs": [
    {
     "data": {
      "text/plain": [
       "Ridge(alpha=0, copy_X=True, fit_intercept=True, max_iter=None, normalize=True,\n",
       "      random_state=None, solver='auto', tol=0.001)"
      ]
     },
     "execution_count": 11,
     "metadata": {},
     "output_type": "execute_result"
    }
   ],
   "source": [
    "ridge_reg.fit(x_train, y_train)"
   ]
  },
  {
   "cell_type": "markdown",
   "metadata": {},
   "source": [
    "Predict on test data."
   ]
  },
  {
   "cell_type": "code",
   "execution_count": 12,
   "metadata": {},
   "outputs": [
    {
     "data": {
      "text/plain": [
       "array([257275.38470326, 482301.34932298, 361032.73660779, 315549.94841136,\n",
       "       460681.3831428 , 382063.49209754, 410875.50798129, 406809.9151191 ,\n",
       "       397520.1234012 , 490550.60882503, 562378.72667401, 484312.48159825,\n",
       "       209563.94740961, 587132.95636345, 406946.65578514, 332587.56007306,\n",
       "       283501.62958755, 661128.2622037 , 367659.39347655, 176585.76447608,\n",
       "       361995.41621612, 303624.21046111, 258341.12837574, 455872.20956323,\n",
       "       326395.67846594, 372027.06358221, 593829.76320527, 516077.6169357 ,\n",
       "       513550.57276127, 575479.12995348, 350316.29180087, 572502.58126152,\n",
       "       484994.40678554, 505859.21645218, 365422.63288191, 404046.70562032,\n",
       "       569327.29314319, 500254.97494424, 283955.01453751, 590999.6498804 ,\n",
       "       487310.57637019, 513102.96223302, 664286.12719819, 414828.87176427,\n",
       "       617761.39203809, 481918.1599157 , 621930.06598492, 404521.43786641,\n",
       "       379429.60802601, 406650.46341969, 496839.73094467, 496340.91384554,\n",
       "       335259.30296586, 351412.86091765, 265275.80990522, 645514.53822262,\n",
       "       745586.82965698, 641034.67119805, 650095.78648489, 242883.43432235,\n",
       "       333058.36683225, 442735.61876027, 519846.15220283, 487781.29250529,\n",
       "       450768.75181626, 525306.30447149, 769230.56103492, 383613.35296186,\n",
       "       687966.97804568, 431963.12134656, 111681.34280672, 421900.36550023,\n",
       "       328515.30153783, 642961.60508141, 415514.86069535, 358981.06665151,\n",
       "       338851.81241831, 634764.38076056, 518040.38428132, 507608.80939837,\n",
       "       420087.14478957, 441833.12015581, 510163.84820687, 447950.94332346,\n",
       "       389309.16327942, 582478.06499845, 368659.26466094, 359140.50808599,\n",
       "       623574.94786039, 379298.34097669, 582352.35605133, 395347.35832585,\n",
       "       462072.35002767, 535121.01112158, 546358.11447165, 347237.43611463,\n",
       "       276666.43582166, 485669.22855253, 342953.04666358, 305057.42926517,\n",
       "       385904.86651329, 693827.6380126 , 258878.37336226, 464328.7503849 ,\n",
       "       496348.11201628, 574053.01531828, 359653.92415249, 300153.53697655,\n",
       "       482112.78590231, 480771.28349865, 424643.47489611, 447969.11939084,\n",
       "       398691.32832711, 445606.45026578, 112962.89904361, 381102.15438196,\n",
       "       473666.10026663, 401656.91534348, 244153.2223512 , 267453.67498813,\n",
       "       423509.54884346, 601057.26502443, 303578.21951076, 528745.33027344,\n",
       "       113004.40083099, 410482.47478507, 415564.60769734, 216421.66299229,\n",
       "       342330.86060655, 246744.58882074, 537759.77114368, 383084.89032915,\n",
       "       372564.27303065, 370453.65167718, 417895.61394908, 337830.20588648,\n",
       "       332729.04250821, 519680.86067987, 185363.41994527, 436063.49987859,\n",
       "       513948.28570254, 560750.99548403,  51394.78904695, 754814.29509019,\n",
       "       511976.11512698, 235818.82969947, 584556.33261001, 460063.53790941,\n",
       "       331316.71210617, 444814.63186216, 374655.58632311, 326770.54229945,\n",
       "       565739.74871739, 350970.88209521, 413335.5414845 , 293692.8489075 ,\n",
       "       339564.97557492, 327483.65576009, 536914.63487846, 362692.96861529,\n",
       "       507647.8826356 , 671137.53557717, 282776.19478951, 597138.61124451,\n",
       "       408815.73031875, 711774.38816348, 668137.20508282, 349940.70024609,\n",
       "       284318.890958  , 468224.35965099, 388238.27740752, 397378.85058089,\n",
       "       486467.7507456 , 566606.29074253, 466786.03493415, 467378.69444834,\n",
       "       435773.39942767, 279880.50720322, 767578.29922535, 639055.44408642,\n",
       "       673268.91063605, 566956.25831567, 413889.93246412, 318135.45878541,\n",
       "       210840.03495556, 352250.2577466 , -32533.38836031, 379897.07951125,\n",
       "       639341.22486052, 330184.92444718, 510679.03181869, 443589.58838988,\n",
       "       451002.50017   , 369994.06796755, 510801.80104727, 393075.0719611 ])"
      ]
     },
     "execution_count": 12,
     "metadata": {},
     "output_type": "execute_result"
    }
   ],
   "source": [
    "y_pred = ridge_reg.predict(x_test)\n",
    "y_pred"
   ]
  },
  {
   "cell_type": "markdown",
   "metadata": {},
   "source": [
    "Extract the score from the test data."
   ]
  },
  {
   "cell_type": "code",
   "execution_count": 13,
   "metadata": {},
   "outputs": [
    {
     "data": {
      "text/plain": [
       "0.68654350627311"
      ]
     },
     "execution_count": 13,
     "metadata": {},
     "output_type": "execute_result"
    }
   ],
   "source": [
    "ridge_reg.score(x_test, y_test)"
   ]
  },
  {
   "cell_type": "markdown",
   "metadata": {},
   "source": [
    "## Find the optimal value for $\\alpha$\n",
    "The accuracy of this model is exactly the same as the accuracy of the model that we built without the ridge regression as the parameter that controls how the model is optimized; $\\alpha$ is set to 0. \n",
    "\n",
    "In order to obtain the optimal value of $\\alpha$, the **GridSearchCV** algorithm can be used."
   ]
  },
  {
   "cell_type": "code",
   "execution_count": 14,
   "metadata": {},
   "outputs": [],
   "source": [
    "from sklearn.model_selection import GridSearchCV"
   ]
  },
  {
   "cell_type": "markdown",
   "metadata": {},
   "source": [
    "Construct a ridge regression (model) class without specifying any parameters."
   ]
  },
  {
   "cell_type": "code",
   "execution_count": 15,
   "metadata": {},
   "outputs": [],
   "source": [
    "ridge_regression = Ridge(normalize=True)"
   ]
  },
  {
   "cell_type": "markdown",
   "metadata": {},
   "source": [
    "Construct a **GridSearchCV** object that is used to search for the best parameter of $\\alpha$. The first argument to the function is an estimator object that follows the interface specified by scikit-learn, which e.g. must provide a score function to evaluate the predictor. The second argument is a dictionary that specifies for a parameter (given as a key to the dictionary) the values to try out (given as a list of values for this parameter). In this example, we want the grid search to use ridge regression and try out for the hyperparameter **alpha** the values 0.0001, 0.001, 0.01, 0.1, and 10. Applying the **fit()** function to the **GridSearchCV** object will fit different models according to the hyperparameters specified and provides us with the best parameters."
   ]
  },
  {
   "cell_type": "code",
   "execution_count": 16,
   "metadata": {},
   "outputs": [
    {
     "data": {
      "text/plain": [
       "GridSearchCV(cv=None, error_score=nan,\n",
       "             estimator=Ridge(alpha=1.0, copy_X=True, fit_intercept=True,\n",
       "                             max_iter=None, normalize=True, random_state=None,\n",
       "                             solver='auto', tol=0.001),\n",
       "             iid='deprecated', n_jobs=None,\n",
       "             param_grid={'alpha': [0.0, 0.0001, 0.001, 0.01, 0.1, 10]},\n",
       "             pre_dispatch='2*n_jobs', refit=True, return_train_score=False,\n",
       "             scoring=None, verbose=0)"
      ]
     },
     "execution_count": 16,
     "metadata": {},
     "output_type": "execute_result"
    }
   ],
   "source": [
    "grid = GridSearchCV(ridge_regression, {'alpha' : [0.0, 0.0001, 0.001, 0.01, 0.1, 10]})\n",
    "grid.fit(x_train, y_train)"
   ]
  },
  {
   "cell_type": "markdown",
   "metadata": {},
   "source": [
    "Print the best parameter that grid search found."
   ]
  },
  {
   "cell_type": "code",
   "execution_count": 17,
   "metadata": {},
   "outputs": [
    {
     "name": "stdout",
     "output_type": "stream",
     "text": [
      "The most optimal value of alpha is: {'alpha': 0.1}\n"
     ]
    }
   ],
   "source": [
    "print(\"The most optimal value of alpha is:\", grid.best_params_)"
   ]
  },
  {
   "cell_type": "markdown",
   "metadata": {},
   "source": [
    "Let us try this best $\\alpha$ value with our own model. Change the $\\alpha$ value, if your grid search resulted in a different value."
   ]
  },
  {
   "cell_type": "code",
   "execution_count": 18,
   "metadata": {},
   "outputs": [
    {
     "name": "stdout",
     "output_type": "stream",
     "text": [
      "Score on training data: 0.7234633703078696\n",
      "Score on test data: 0.6874163524536401\n"
     ]
    }
   ],
   "source": [
    "ridge_regression = Ridge(alpha = 0.1, normalize=True)\n",
    "ridge_regression.fit(x_train, y_train)\n",
    "print('Score on training data:', ridge_regression.score(x_train, y_train))\n",
    "# Accuracy score of the ridge regression model\n",
    "print('Score on test data:', ridge_regression.score(x_test, y_test))"
   ]
  },
  {
   "cell_type": "markdown",
   "metadata": {},
   "source": [
    "When you compare the score on the test data with the score from the original regression computed above, you notice that it is slightly worse than the one from ridge regression with $\\alpha$ being equal to 0. This seems odd, so let us investigate this further.\n",
    "\n",
    "In order to verify the results that the GridSearchCV algorithm has provided us with, we will construct a plot between the accuracy scores on the y-axis and the different values of $\\alpha$ along the x-axis, for both the training and test data."
   ]
  },
  {
   "cell_type": "code",
   "execution_count": 19,
   "metadata": {},
   "outputs": [
    {
     "name": "stdout",
     "output_type": "stream",
     "text": [
      "[0.7252715265970198, 0.7252715265968606, 0.7252715265810973, 0.7252715250051825, 0.7252713678026758, 0.7240378445220592]\n",
      "[0.6865435062731098, 0.6865436002083507, 0.6865444455966825, 0.686552896625909, 0.6866371221353978, 0.6933249602496201]\n"
     ]
    },
    {
     "data": {
      "image/png": "[encoded data removed]",
      "text/plain": [
       "<Figure size 432x288 with 1 Axes>"
      ]
     },
     "metadata": {},
     "output_type": "display_data"
    }
   ],
   "source": [
    "import matplotlib.pyplot as plt\n",
    "train_errors = []\n",
    "test_errors = []\n",
    "alpha_list = [0.0, 0.0001, 0.001, 0.01, 0.1, 10]\n",
    "# Evaluate the training and test classification errors for each value of alpha\n",
    "for value in alpha_list:\n",
    "    # Create Ridge object and fit\n",
    "    ridge_regression = Ridge(alpha = value)#, normalize=True)\n",
    "    ridge_regression.fit(x_train, y_train)\n",
    "    # Evaluate error rates and append to lists\n",
    "    train_errors.append(ridge_regression.score(x_train, y_train) )\n",
    "    test_errors.append(ridge_regression.score(x_test, y_test))\n",
    "# Plot results\n",
    "plt.semilogx(alpha_list, train_errors, alpha_list, test_errors)\n",
    "plt.legend((\"train\", \"test\"))\n",
    "plt.ylabel('Accuracy Score')\n",
    "plt.xlabel('Alpha')\n",
    "#plt.show()\n",
    "print(train_errors)\n",
    "print(test_errors)"
   ]
  },
  {
   "cell_type": "markdown",
   "metadata": {},
   "source": [
    "Since our initial model was already well optimized, the reported accuracy score did not increase by an observable amount (and might even have decreased). **Depending on the split of the data, the accuracy of test and train might be better or worse.** However, on datasets with larger dimensions/features, ridge regression holds immense value for providing you with a model that generalizes well, without overfitting.\n",
    "\n",
    "**Try not to interpret too much into the plot, as running the same code on this dataset might change the results due to the randomness of the split. You can verify this by calling \"Restart kernel and run up to Selected Cell\" from the Kernel menu.** "
   ]
  },
  {
   "cell_type": "markdown",
   "metadata": {},
   "source": [
    "# Lasso regression\n",
    "The equation for lasso regression is $LassoLossFunction = OriginalLossFunction + \\alpha\\sum_{i=1}^{n}|\\theta_{i}|$\n",
    "\n",
    "In the preceding equation, the lasso loss function is equal to the original loss function plus the product of the absolute value of the coefficients of each feature and $\\alpha$. \n",
    "\n",
    "$\\alpha$ is a parameter that we can optimize to control the amount by which the lasso loss function penalizes the coefficients, in order to prevent overfitting. Once again, if $\\alpha$ is equal to 0, the lasso loss function is equal to the original loss function, thereby making no difference to the initial overfitted model. \n",
    "\n",
    "Therefore, optimizing this value of $\\alpha$ provides the optimal model that generalizes well beyond the data that it has trained on. "
   ]
  },
  {
   "cell_type": "code",
   "execution_count": 20,
   "metadata": {},
   "outputs": [
    {
     "data": {
      "text/plain": [
       "0.6865418233215961"
      ]
     },
     "execution_count": 20,
     "metadata": {},
     "output_type": "execute_result"
    }
   ],
   "source": [
    "from sklearn.linear_model import Lasso\n",
    "# Initialize a lasso regression model\n",
    "lasso_reg = Lasso(alpha = 0.1, normalize = True)\n",
    "# Fit the model to the training data\n",
    "lasso_reg.fit(x_train, y_train)\n",
    "# Extract the score from the test data\n",
    "lasso_reg.score(x_test, y_test)"
   ]
  },
  {
   "cell_type": "markdown",
   "metadata": {},
   "source": [
    "The preceding code is very similar to the code that we used to build the ridge regression model; the only difference is the **Lasso()** constructor, which we use to initialize a lasso regression model.\n",
    "\n",
    "In order to optimize the value of alpha, we use the GridSearchCV algorithm. "
   ]
  },
  {
   "cell_type": "code",
   "execution_count": 21,
   "metadata": {},
   "outputs": [
    {
     "name": "stdout",
     "output_type": "stream",
     "text": [
      "The most optimal value of alpha is: {'alpha': 10}\n"
     ]
    }
   ],
   "source": [
    "from sklearn.model_selection import GridSearchCV\n",
    "# Construct the model\n",
    "lasso_regression = Lasso()\n",
    "#Using GridSearchCV to search for the best parameter\n",
    "grid = GridSearchCV(lasso_regression, {'alpha':[0.0001, 0.001, 0.01, 0.1, 10]})\n",
    "grid.fit(x_train, y_train)\n",
    "# Print out the best parameter\n",
    "print(\"The most optimal value of alpha is:\", grid.best_params_)"
   ]
  },
  {
   "cell_type": "markdown",
   "metadata": {},
   "source": [
    "Try the best model. Change the $\\alpha$ value, if your grid search resulted in a different value."
   ]
  },
  {
   "cell_type": "code",
   "execution_count": 28,
   "metadata": {},
   "outputs": [
    {
     "data": {
      "text/plain": [
       "0.6865682741489638"
      ]
     },
     "execution_count": 28,
     "metadata": {},
     "output_type": "execute_result"
    }
   ],
   "source": [
    "# Initializing an lasso regression object\n",
    "lasso_regression = Lasso(alpha = 10)\n",
    "# Fitting the model to the training and test sets\n",
    "lasso_regression.fit(x_train, y_train)\n",
    "# Accuracy score of the lasso regression model\n",
    "lasso_regression.score(x_test, y_test)\n"
   ]
  },
  {
   "cell_type": "markdown",
   "metadata": {},
   "source": [
    "# Polynomial regression"
   ]
  },
  {
   "cell_type": "markdown",
   "metadata": {},
   "source": [
    "There were some issues with our model from the previous lab:\n",
    "\n",
    "   + The plots do not look very linear, and a linear model is not able to capture this non-linearity.\n",
    "    \n",
    "   + Although we cannot turn a linear model into a non-linear one, we can still transform the data instead. This is the idea of polynomial regression.\n",
    "    \n",
    "   + Think of it this way: if $y$ is a function of $x^2$, we can either use a non-linear model — one that is capable of capturing the quadratic relation between $x$ and $y$ — or we can just calculate $x^2$ and give it to a linear model instead of $x$. Furthermore, linear regression algorithms do not capture feature interactions.\n",
    "    \n",
    "   + The current model cannot capture interactions between multiple features"
   ]
  },
  {
   "cell_type": "markdown",
   "metadata": {},
   "source": [
    "A polynomial transformation can solve both the non-linearity and feature interaction issues for us. Given the original data, scikit-learn's **PolynomialFeatures** class will transform the features into higher dimensions (for example, it will add the quadratic and cubic values for each feature). Additionally, it will also add the products to each feature-pair (or triplets). PolynomialFeatures works in a similar fashion to the regression object we used in the previous exercise. We are going to use its **fit_transform** method and a **transform()** method, as follows:"
   ]
  },
  {
   "cell_type": "code",
   "execution_count": 29,
   "metadata": {},
   "outputs": [
    {
     "name": "stdout",
     "output_type": "stream",
     "text": [
      "(293, 10)\n",
      "(196, 10)\n"
     ]
    }
   ],
   "source": [
    "from sklearn.preprocessing import PolynomialFeatures\n",
    "poly = PolynomialFeatures(degree=2)\n",
    "x_train_poly = poly.fit_transform(x_train)\n",
    "x_test_poly = poly.transform(x_test)\n",
    "print(x_train_poly.shape)\n",
    "print(x_test_poly.shape)\n"
   ]
  },
  {
   "cell_type": "markdown",
   "metadata": {},
   "source": [
    "To get both the quadratic and cubic feature transformation, we set the degree parameter to 2.\n",
    "\n",
    "One annoying thing about PolynomialFeatures is that it does not keep track of the DataFrame's column names. It replaces the feature names with $x0$, $x1$, $x2$, and so on. "
   ]
  },
  {
   "cell_type": "code",
   "execution_count": 30,
   "metadata": {},
   "outputs": [
    {
     "name": "stdout",
     "output_type": "stream",
     "text": [
      "['1', 'x0', 'x1', 'x2', 'x0^2', 'x0 x1', 'x0 x2', 'x1^2', 'x1 x2', 'x2^2']\n"
     ]
    }
   ],
   "source": [
    "print(poly.get_feature_names())"
   ]
  },
  {
   "cell_type": "markdown",
   "metadata": {},
   "source": [
    "We will use our Python skills to reclaim our column names. We first generate a list of pairs with the x ($x0$, $x1$, $x2$) feature names and the real feature names."
   ]
  },
  {
   "cell_type": "code",
   "execution_count": 31,
   "metadata": {},
   "outputs": [
    {
     "data": {
      "text/plain": [
       "[('x0', 'RM'), ('x1', 'LSTAT'), ('x2', 'PTRATIO')]"
      ]
     },
     "execution_count": 31,
     "metadata": {},
     "output_type": "execute_result"
    }
   ],
   "source": [
    "feature_translator = [(f'x{i}', feature) for i, feature in enumerate(x_train.columns, 0)]\n",
    "feature_translator"
   ]
  },
  {
   "cell_type": "markdown",
   "metadata": {},
   "source": [
    "Then, define a function that replaces each x feature name with the feature names according to the list of pairs we just generated."
   ]
  },
  {
   "cell_type": "code",
   "execution_count": 32,
   "metadata": {},
   "outputs": [],
   "source": [
    "def translate_feature_names(s):\n",
    "    for key, val in feature_translator:\n",
    "        s = s.replace(key, val)\n",
    "    return s\n"
   ]
  },
  {
   "cell_type": "markdown",
   "metadata": {},
   "source": [
    "And apply this function on the feature names to get a new list of meaningful feature names."
   ]
  },
  {
   "cell_type": "code",
   "execution_count": 33,
   "metadata": {},
   "outputs": [
    {
     "name": "stdout",
     "output_type": "stream",
     "text": [
      "['1', 'RM', 'LSTAT', 'PTRATIO', 'RM^2', 'RM LSTAT', 'RM PTRATIO', 'LSTAT^2', 'LSTAT PTRATIO', 'PTRATIO^2']\n"
     ]
    }
   ],
   "source": [
    "poly_features = [translate_feature_names(f) for f in poly.get_feature_names()]\n",
    "len(poly_features)\n",
    "poly_features\n",
    "print(poly_features)"
   ]
  },
  {
   "cell_type": "markdown",
   "metadata": {},
   "source": [
    "## Fit linear regression with the derived features"
   ]
  },
  {
   "cell_type": "markdown",
   "metadata": {},
   "source": [
    "Now, we are ready to use our linear regressor with the newly transformed features. One thing to keep in mind is that the PolynomialFeatures transformer adds one additional column where all the values are 1. The coefficient this column gets after training is equivalent to the intercept. So, we will not fit an intercept by setting fit_intercept=False when training our regressor this time:"
   ]
  },
  {
   "cell_type": "code",
   "execution_count": 34,
   "metadata": {},
   "outputs": [
    {
     "data": {
      "text/plain": [
       "LinearRegression(copy_X=True, fit_intercept=False, n_jobs=None, normalize=False)"
      ]
     },
     "execution_count": 34,
     "metadata": {},
     "output_type": "execute_result"
    }
   ],
   "source": [
    "from sklearn.linear_model import LinearRegression\n",
    "reg = LinearRegression(fit_intercept=False)\n",
    "reg.fit(x_train_poly, y_train)"
   ]
  },
  {
   "cell_type": "markdown",
   "metadata": {},
   "source": [
    "Check the score for the training data."
   ]
  },
  {
   "cell_type": "code",
   "execution_count": 35,
   "metadata": {},
   "outputs": [
    {
     "data": {
      "text/plain": [
       "0.8258019973680183"
      ]
     },
     "execution_count": 35,
     "metadata": {},
     "output_type": "execute_result"
    }
   ],
   "source": [
    "reg.score(x_train_poly, y_train)\n"
   ]
  },
  {
   "cell_type": "markdown",
   "metadata": {},
   "source": [
    "And also for the test data."
   ]
  },
  {
   "cell_type": "code",
   "execution_count": 36,
   "metadata": {},
   "outputs": [
    {
     "data": {
      "text/plain": [
       "0.84436188444519"
      ]
     },
     "execution_count": 36,
     "metadata": {},
     "output_type": "execute_result"
    }
   ],
   "source": [
    "reg.score(x_test_poly, y_test)"
   ]
  },
  {
   "cell_type": "markdown",
   "metadata": {},
   "source": [
    "It should show better accuracies than without the polynomials.\n",
    "\n",
    "Let us predict also some y-values for the test data."
   ]
  },
  {
   "cell_type": "code",
   "execution_count": 37,
   "metadata": {},
   "outputs": [],
   "source": [
    "y_test_pred = reg.predict(x_test_poly)"
   ]
  },
  {
   "cell_type": "markdown",
   "metadata": {},
   "source": [
    "So that we finally can print some metrics like the $R^2$, $MAE$ (mean absolute error), and $MSE$ (mean squared error). (The best value for a $R^2$ score is 1.0.)"
   ]
  },
  {
   "cell_type": "code",
   "execution_count": 38,
   "metadata": {},
   "outputs": [
    {
     "name": "stdout",
     "output_type": "stream",
     "text": [
      "R2 Regressor = 0.84 \n",
      "MAE Regressor = 47971.45 \n",
      "MSE Regressor = 3826840705.23 \n"
     ]
    }
   ],
   "source": [
    "from sklearn.metrics import r2_score\n",
    "from sklearn.metrics import mean_absolute_error\n",
    "from sklearn.metrics import mean_squared_error\n",
    "print('R2 Regressor = {:.2f} '.format(r2_score(y_test, y_test_pred)))\n",
    "print('MAE Regressor = {:.2f} '.format(mean_absolute_error(y_test, y_test_pred)))\n",
    "print('MSE Regressor = {:.2f} '.format(mean_squared_error(y_test, y_test_pred)))"
   ]
  },
  {
   "cell_type": "markdown",
   "metadata": {},
   "source": [
    "# Exercises"
   ]
  },
  {
   "cell_type": "markdown",
   "metadata": {},
   "source": [
    "## Task 1 - Polynomials up to degree 3\n",
    "\n",
    "Try a model that takes polynomials up to degree 3 and see if this improves your scores."
   ]
  },
  {
   "cell_type": "code",
   "execution_count": 44,
   "metadata": {},
   "outputs": [
    {
     "name": "stdout",
     "output_type": "stream",
     "text": [
      "R2 Regressor = 0.84 \n",
      "MAE Regressor = 47698.01 \n",
      "MSE Regressor = 3826367991.37 \n"
     ]
    }
   ],
   "source": [
    "from sklearn.preprocessing import PolynomialFeatures\n",
    "poly1 = PolynomialFeatures(degree=3)\n",
    "x_train_poly1 = poly1.fit_transform(x_train)\n",
    "x_test_poly1 = poly1.transform(x_test)\n",
    "\n",
    "from sklearn.linear_model import LinearRegression\n",
    "reg = LinearRegression(fit_intercept=False)\n",
    "reg.fit(x_train_poly1, y_train)\n",
    "\n",
    "y_test_pred = reg.predict(x_test_poly1)\n",
    "from sklearn.metrics import r2_score\n",
    "from sklearn.metrics import mean_absolute_error\n",
    "from sklearn.metrics import mean_squared_error\n",
    "print('R2 Regressor = {:.2f} '.format(r2_score(y_test, y_test_pred)))\n",
    "print('MAE Regressor = {:.2f} '.format(mean_absolute_error(y_test,y_test_pred)))\n",
    "print('MSE Regressor = {:.2f} '.format(mean_squared_error(y_test, y_test_pred)))\n"
   ]
  },
  {
   "cell_type": "markdown",
   "metadata": {},
   "source": [
    "Did you get worse results?\n",
    "\n",
    "One major problem with the ordinary least squares regression algorithm is that it does not work well with highly correlated features (multicollinearity).\n",
    "\n",
    "The polynomial feature transformation approach — where we add features, their squared and cubic values, and the product of the features' pairs and triples — will very likely give us multiple correlated features. This multi-collinearity harms the model's performance. Furthermore, if you print the shape of x_train_poly, you will see that it has few samples and many features. This is another problem known as the curse of dimensionality."
   ]
  },
  {
   "cell_type": "markdown",
   "metadata": {},
   "source": [
    "## Task 2 - Ridge regularization\n",
    "\n",
    "Apply ridge regularization in order to regularize the polynomial model. Use grid search for finding the appropriate regularization coefficients!"
   ]
  },
  {
   "cell_type": "code",
   "execution_count": 46,
   "metadata": {},
   "outputs": [
    {
     "name": "stdout",
     "output_type": "stream",
     "text": [
      "The most optimal value of alpha is: {'alpha': 0.01}\n"
     ]
    }
   ],
   "source": [
    "from sklearn.linear_model import Ridge\n",
    "ridge_regression = Ridge(normalize=True)\n",
    "grid = GridSearchCV(ridge_regression, {'alpha' : [0.0, 0.0001, 0.001, 0.01, 0.1, 10]})\n",
    "grid.fit(x_train_poly1, y_train)\n",
    "print(\"The most optimal value of alpha is:\", grid.best_params_)"
   ]
  },
  {
   "cell_type": "code",
   "execution_count": 47,
   "metadata": {},
   "outputs": [
    {
     "name": "stdout",
     "output_type": "stream",
     "text": [
      "Score on training data: 0.801371502969664\n",
      "Score on test data: 0.8048256922824377\n"
     ]
    }
   ],
   "source": [
    "ridge_regression = Ridge(alpha = 0.1, normalize=True)\n",
    "ridge_regression.fit(x_train_poly1, y_train)\n",
    "print('Score on training data:', ridge_regression.score(x_train_poly1, y_train))\n",
    "# Accuracy score of the ridge regression model\n",
    "print('Score on test data:', ridge_regression.score(x_test_poly1, y_test))"
   ]
  },
  {
   "cell_type": "markdown",
   "metadata": {},
   "source": [
    "## Task 3 - Lasso regularization\n",
    "\n",
    "Apply lasso regularization in order to regularize the polynomial model. Use grid search for finding the appropriate regularization coefficients!"
   ]
  },
  {
   "cell_type": "code",
   "execution_count": 50,
   "metadata": {},
   "outputs": [
    {
     "name": "stdout",
     "output_type": "stream",
     "text": [
      "The most optimal value of alpha is: {'alpha': 10}\n"
     ]
    },
    {
     "name": "stderr",
     "output_type": "stream",
     "text": [
      "/opt/conda/lib/python3.7/site-packages/sklearn/linear_model/_coordinate_descent.py:476: ConvergenceWarning: Objective did not converge. You might want to increase the number of iterations. Duality gap: 524567348249.84, tolerance: 652861294.3461543\n",
      "  positive)\n",
      "/opt/conda/lib/python3.7/site-packages/sklearn/linear_model/_coordinate_descent.py:476: ConvergenceWarning: Objective did not converge. You might want to increase the number of iterations. Duality gap: 566510993314.063, tolerance: 602815393.115385\n",
      "  positive)\n",
      "/opt/conda/lib/python3.7/site-packages/sklearn/linear_model/_coordinate_descent.py:476: ConvergenceWarning: Objective did not converge. You might want to increase the number of iterations. Duality gap: 581077940196.0858, tolerance: 705907131.9999962\n",
      "  positive)\n",
      "/opt/conda/lib/python3.7/site-packages/sklearn/linear_model/_coordinate_descent.py:476: ConvergenceWarning: Objective did not converge. You might want to increase the number of iterations. Duality gap: 566177066345.3282, tolerance: 692944238.2978724\n",
      "  positive)\n",
      "/opt/conda/lib/python3.7/site-packages/sklearn/linear_model/_coordinate_descent.py:476: ConvergenceWarning: Objective did not converge. You might want to increase the number of iterations. Duality gap: 538845275580.1184, tolerance: 675325638.9957446\n",
      "  positive)\n",
      "/opt/conda/lib/python3.7/site-packages/sklearn/linear_model/_coordinate_descent.py:476: ConvergenceWarning: Objective did not converge. You might want to increase the number of iterations. Duality gap: 524567403034.6956, tolerance: 652861294.3461543\n",
      "  positive)\n",
      "/opt/conda/lib/python3.7/site-packages/sklearn/linear_model/_coordinate_descent.py:476: ConvergenceWarning: Objective did not converge. You might want to increase the number of iterations. Duality gap: 566511044495.3354, tolerance: 602815393.115385\n",
      "  positive)\n",
      "/opt/conda/lib/python3.7/site-packages/sklearn/linear_model/_coordinate_descent.py:476: ConvergenceWarning: Objective did not converge. You might want to increase the number of iterations. Duality gap: 581077996759.6681, tolerance: 705907131.9999962\n",
      "  positive)\n",
      "/opt/conda/lib/python3.7/site-packages/sklearn/linear_model/_coordinate_descent.py:476: ConvergenceWarning: Objective did not converge. You might want to increase the number of iterations. Duality gap: 566177110011.5338, tolerance: 692944238.2978724\n",
      "  positive)\n",
      "/opt/conda/lib/python3.7/site-packages/sklearn/linear_model/_coordinate_descent.py:476: ConvergenceWarning: Objective did not converge. You might want to increase the number of iterations. Duality gap: 538845315221.17334, tolerance: 675325638.9957446\n",
      "  positive)\n",
      "/opt/conda/lib/python3.7/site-packages/sklearn/linear_model/_coordinate_descent.py:476: ConvergenceWarning: Objective did not converge. You might want to increase the number of iterations. Duality gap: 524567950861.1555, tolerance: 652861294.3461543\n",
      "  positive)\n",
      "/opt/conda/lib/python3.7/site-packages/sklearn/linear_model/_coordinate_descent.py:476: ConvergenceWarning: Objective did not converge. You might want to increase the number of iterations. Duality gap: 566511556288.7317, tolerance: 602815393.115385\n",
      "  positive)\n",
      "/opt/conda/lib/python3.7/site-packages/sklearn/linear_model/_coordinate_descent.py:476: ConvergenceWarning: Objective did not converge. You might want to increase the number of iterations. Duality gap: 581078562388.6631, tolerance: 705907131.9999962\n",
      "  positive)\n",
      "/opt/conda/lib/python3.7/site-packages/sklearn/linear_model/_coordinate_descent.py:476: ConvergenceWarning: Objective did not converge. You might want to increase the number of iterations. Duality gap: 566177546656.353, tolerance: 692944238.2978724\n",
      "  positive)\n",
      "/opt/conda/lib/python3.7/site-packages/sklearn/linear_model/_coordinate_descent.py:476: ConvergenceWarning: Objective did not converge. You might want to increase the number of iterations. Duality gap: 538845711610.2335, tolerance: 675325638.9957446\n",
      "  positive)\n",
      "/opt/conda/lib/python3.7/site-packages/sklearn/linear_model/_coordinate_descent.py:476: ConvergenceWarning: Objective did not converge. You might want to increase the number of iterations. Duality gap: 524573427087.1458, tolerance: 652861294.3461543\n",
      "  positive)\n",
      "/opt/conda/lib/python3.7/site-packages/sklearn/linear_model/_coordinate_descent.py:476: ConvergenceWarning: Objective did not converge. You might want to increase the number of iterations. Duality gap: 566516672292.2748, tolerance: 602815393.115385\n",
      "  positive)\n",
      "/opt/conda/lib/python3.7/site-packages/sklearn/linear_model/_coordinate_descent.py:476: ConvergenceWarning: Objective did not converge. You might want to increase the number of iterations. Duality gap: 581084217289.4261, tolerance: 705907131.9999962\n",
      "  positive)\n",
      "/opt/conda/lib/python3.7/site-packages/sklearn/linear_model/_coordinate_descent.py:476: ConvergenceWarning: Objective did not converge. You might want to increase the number of iterations. Duality gap: 566181911234.2318, tolerance: 692944238.2978724\n",
      "  positive)\n",
      "/opt/conda/lib/python3.7/site-packages/sklearn/linear_model/_coordinate_descent.py:476: ConvergenceWarning: Objective did not converge. You might want to increase the number of iterations. Duality gap: 538849673352.15155, tolerance: 675325638.9957446\n",
      "  positive)\n",
      "/opt/conda/lib/python3.7/site-packages/sklearn/linear_model/_coordinate_descent.py:476: ConvergenceWarning: Objective did not converge. You might want to increase the number of iterations. Duality gap: 525152295670.85925, tolerance: 652861294.3461543\n",
      "  positive)\n",
      "/opt/conda/lib/python3.7/site-packages/sklearn/linear_model/_coordinate_descent.py:476: ConvergenceWarning: Objective did not converge. You might want to increase the number of iterations. Duality gap: 567057167226.2827, tolerance: 602815393.115385\n",
      "  positive)\n",
      "/opt/conda/lib/python3.7/site-packages/sklearn/linear_model/_coordinate_descent.py:476: ConvergenceWarning: Objective did not converge. You might want to increase the number of iterations. Duality gap: 581695659633.4749, tolerance: 705907131.9999962\n",
      "  positive)\n",
      "/opt/conda/lib/python3.7/site-packages/sklearn/linear_model/_coordinate_descent.py:476: ConvergenceWarning: Objective did not converge. You might want to increase the number of iterations. Duality gap: 566641839906.9004, tolerance: 692944238.2978724\n",
      "  positive)\n",
      "/opt/conda/lib/python3.7/site-packages/sklearn/linear_model/_coordinate_descent.py:476: ConvergenceWarning: Objective did not converge. You might want to increase the number of iterations. Duality gap: 539261683281.1136, tolerance: 675325638.9957446\n",
      "  positive)\n",
      "/opt/conda/lib/python3.7/site-packages/sklearn/linear_model/_coordinate_descent.py:476: ConvergenceWarning: Objective did not converge. You might want to increase the number of iterations. Duality gap: 706436596908.9717, tolerance: 833140165.0853242\n",
      "  positive)\n"
     ]
    },
    {
     "data": {
      "text/plain": [
       "0.6865682741489638"
      ]
     },
     "execution_count": 50,
     "metadata": {},
     "output_type": "execute_result"
    }
   ],
   "source": [
    "# Construct the model\n",
    "lasso_regression = Lasso()\n",
    "#Using GridSearchCV to search for the best parameter\n",
    "grid = GridSearchCV(lasso_regression, {'alpha':[0.0001, 0.001, 0.01, 0.1, 10]})\n",
    "grid.fit(x_train_poly1, y_train)\n",
    "# Print out the best parameter\n",
    "print(\"The most optimal value of alpha is:\", grid.best_params_)\n",
    "# Initializing an lasso regression object\n",
    "lasso_regression = Lasso(alpha = 10)\n",
    "# Fitting the model to the training and test sets\n",
    "lasso_regression.fit(x_train, y_train)\n",
    "# Accuracy score of the lasso regression model\n",
    "lasso_regression.score(x_test, y_test)\n"
   ]
  },
  {
   "cell_type": "code",
   "execution_count": null,
   "metadata": {},
   "outputs": [],
   "source": []
  }
 ],
 "metadata": {
  "kernelspec": {
   "display_name": "Python 3",
   "language": "python",
   "name": "python3"
  },
  "language_info": {
   "codemirror_mode": {
    "name": "ipython",
    "version": 3
   },
   "file_extension": ".py",
   "mimetype": "text/x-python",
   "name": "python",
   "nbconvert_exporter": "python",
   "pygments_lexer": "ipython3",
   "version": "3.7.8"
  }
 },
 "nbformat": 4,
 "nbformat_minor": 4
}
